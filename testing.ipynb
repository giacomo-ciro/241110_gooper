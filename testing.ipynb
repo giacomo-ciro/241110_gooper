{
 "cells": [
  {
   "cell_type": "code",
   "execution_count": null,
   "metadata": {},
   "outputs": [
    {
     "ename": "",
     "evalue": "",
     "output_type": "error",
     "traceback": [
      "\u001b[1;31mThe Kernel crashed while executing code in the current cell or a previous cell. \n",
      "\u001b[1;31mPlease review the code in the cell(s) to identify a possible cause of the failure. \n",
      "\u001b[1;31mClick <a href='https://aka.ms/vscodeJupyterKernelCrash'>here</a> for more info. \n",
      "\u001b[1;31mView Jupyter <a href='command:jupyter.viewOutput'>log</a> for further details."
     ]
    }
   ],
   "source": [
    "import requests\n",
    "\n",
    "url = 'http://brimax.pythonanywhere.com/generate'\n",
    "headers = {'Content-Type': 'application/json'}\n",
    "data = {'prompt': 'my brand specializes in food'}\n",
    "\n",
    "response = requests.post(url, json=data, headers=headers)\n",
    "\n",
    "print(response.text)"
   ]
  },
  {
   "cell_type": "code",
   "execution_count": 12,
   "metadata": {},
   "outputs": [
    {
     "name": "stdout",
     "output_type": "stream",
     "text": [
      "{\"response\":\"meta-llama/Meta-Llama-3-8B-Instruct-Lite\"}\n",
      "\n"
     ]
    }
   ],
   "source": [
    "import requests\n",
    "\n",
    "url = 'http://brimax.pythonanywhere.com/model_name'\n",
    "\n",
    "response = requests.get(url)\n",
    "\n",
    "print(response.text)"
   ]
  },
  {
   "cell_type": "code",
   "execution_count": 5,
   "metadata": {},
   "outputs": [],
   "source": [
    "from gooper import GooperModel\n",
    "\n",
    "model = GooperModel(model_text=\"meta-llama/Meta-Llama-3.1-8B-Instruct-Turbo\")"
   ]
  },
  {
   "cell_type": "code",
   "execution_count": 6,
   "metadata": {},
   "outputs": [
    {
     "data": {
      "text/plain": [
       "\"This profile belongs to Andrea Digiorgio (Instagram Handle: @andreadigiorgiomusic), a musician and producer specializing in electronic music. This profile showcases Andrea's focus on music production, particularly in the realm of modular synthesizers, with content primarily featuring images and videos of his creative process, product showcases, and collaborations with other artists and brands. Known for his eclectic and humorous approach to music production, Andrea frequently shares behind-the-scenes glimpses of his work, often incorporating elements of storytelling and visual artistry into his posts. His engaging captions often highlight his passion for music, technology, and community, while also promoting his own projects and brand, such as the Murena synthesizer line and the Visioni festival. Through his content, Andrea has built a dedicated following of like-minded individuals who appreciate his unique blend of creativity, technical expertise, and enthusiasm for the music industry.\""
      ]
     },
     "execution_count": 6,
     "metadata": {},
     "output_type": "execute_result"
    }
   ],
   "source": [
    "model.retrieve('I like producing and promoting music')"
   ]
  },
  {
   "cell_type": "code",
   "execution_count": 10,
   "metadata": {},
   "outputs": [
    {
     "name": "stdout",
     "output_type": "stream",
     "text": [
      "-----\n",
      "{\"output\": \"valid\"}\n",
      "valid\n"
     ]
    },
    {
     "data": {
      "text/plain": [
       "\"I think the best fit for your brand is Pain Vin Fromage (@painvinfromages).\\n\\nPain Vin Fromage is a French entrepreneur, indicating a focus on European cuisine.\\n\\nThe influencer's profile showcases a focus on gourmet cuisine, primarily featuring a variety of cheeses, wine, and rustic breads, all carefully selected to highlight the rich flavors and aromas of French specialties.\\nThis emphasis on high-end food aligns with your brand's focus on food.\""
      ]
     },
     "execution_count": 10,
     "metadata": {},
     "output_type": "execute_result"
    }
   ],
   "source": [
    "model.generate(\"My brand specializes in food\")"
   ]
  }
 ],
 "metadata": {
  "kernelspec": {
   "display_name": "main",
   "language": "python",
   "name": "python3"
  },
  "language_info": {
   "codemirror_mode": {
    "name": "ipython",
    "version": 3
   },
   "file_extension": ".py",
   "mimetype": "text/x-python",
   "name": "python",
   "nbconvert_exporter": "python",
   "pygments_lexer": "ipython3",
   "version": "3.12.3"
  }
 },
 "nbformat": 4,
 "nbformat_minor": 2
}
