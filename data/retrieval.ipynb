{
 "cells": [
  {
   "cell_type": "markdown",
   "metadata": {},
   "source": [
    "The following were generated using the prompt from `prompts.md` and `Mistral (7B) Instruct vo-2` on [together.ai](https://api.together.xyz/playground/chat/mistralai/Mistral-7B-Instruct-v0.2)"
   ]
  },
  {
   "cell_type": "code",
   "execution_count": 1,
   "metadata": {},
   "outputs": [],
   "source": [
    "influencer_fit = \"This Instagram profile, belonging to Sabrina Bloedorn (@sabrina.bloedorn), showcases a passionate adventurer and fashion enthusiast who combines her love for the outdoors with stylish outfits. Sabrina's feed primarily features her outdoor adventures, including hiking roundups, and her unique take on outfits using various brands such as Peak Performance, Oak and Fort, VivoBarefoot, and HikeClerb. She is also known for her creative upcycling projects, like transforming an Arc'teryx hoody into a baby onesie. Sabrina has collaborated with various brands and has been featured on Hypebae. Her feed exudes a sense of adventure, self-expression, and sustainability.\"\n",
    "brand = \"This Instagram profile, under the handle @spaceout_official, represents the brand Space Out, specializing in clothing. The profile showcases a connection to the outdoors, encouraging followers to 'enjoy the outside moment' with the hashtag #getoutside. The brand highlights its products, such as the Toray Delfy 3L rain jacket, with a focus on their innovative details and functionality. The profile also features content that goes beyond traditional outdoor activities, showcasing city hikes and urban exploration. #spaceout #notjustforoutdoors.\"\n",
    "influencer_nofit = \"This Instagram profile, @reecebowden, belongs to Reece Bowden, a Fitness Trainer. Reece shares a mix of fitness-related content, including workout routines, training tips, and motivation. He encourages his followers to build their strength day by day and explores various forms of training, from running to hybrid workouts. His posts often feature inspiring messages and the use of the hashtag #explore. Reece also offers online coaching and collaborations, and can be reached at reecebowdencollabs@gmail.com.\""
   ]
  },
  {
   "cell_type": "code",
   "execution_count": 2,
   "metadata": {},
   "outputs": [],
   "source": [
    "import together\n",
    "from together import Together\n",
    "import numpy as np\n",
    "\n",
    "TOGETHER_API_KEY = \"5a532872525382e32ebc396c6cc682d3b8d8d5ea428ef9468404286bb1417f2c\"\n",
    "\n",
    "def generate_embeddings(input_texts: list,\n",
    "                        model_api_string: str\n",
    "                        ) -> list:\n",
    "    \"\"\"Generate embeddings from Together python library.\n",
    "\n",
    "    Args:\n",
    "        input_texts: a list of string input texts.\n",
    "        model_api_string: str. An API string for a specific embedding model of your choice.\n",
    "\n",
    "    Returns:\n",
    "        embeddings_list: a list of embeddings. Each element corresponds to the each input text.\n",
    "    \"\"\"\n",
    "    together_client = together.Together(api_key = TOGETHER_API_KEY)\n",
    "    outputs = together_client.embeddings.create(\n",
    "        input=input_texts,\n",
    "        model=model_api_string,\n",
    "    )\n",
    "    return np.array([x.embedding for x in outputs.data])\n",
    "\n",
    "embeddings = generate_embeddings([influencer_fit, influencer_nofit], 'BAAI/bge-base-en-v1.5')\n",
    "np.save('embeddings.npy', embeddings)"
   ]
  },
  {
   "cell_type": "code",
   "execution_count": 37,
   "metadata": {},
   "outputs": [],
   "source": [
    "from sentence_transformers import SentenceTransformer\n",
    "\n",
    "model = SentenceTransformer(\"BAAI/bge-base-en-v1.5\")\n",
    "\n",
    "sentences = [\n",
    "    # brand,\n",
    "    influencer_fit,\n",
    "    influencer_nofit\n",
    "]\n",
    "embeddings = model.encode(sentences)"
   ]
  },
  {
   "cell_type": "code",
   "execution_count": 43,
   "metadata": {},
   "outputs": [],
   "source": [
    "import pandas as pd\n",
    "\n",
    "df = pd.DataFrame({'description': sentences})\n",
    "df.to_csv('description.csv', index=False)"
   ]
  },
  {
   "cell_type": "code",
   "execution_count": 27,
   "metadata": {},
   "outputs": [],
   "source": [
    "import numpy as np\n",
    "\n",
    "def cosine_similarity(vectors, target_vector):\n",
    "    \"\"\"\n",
    "    Compute the cosine similarity between a set of vectors and a target vector.\n",
    "\n",
    "    Parameters:\n",
    "        vectors (array-like): A 2D array where each row is a vector.\n",
    "        target_vector (array-like): A 1D array representing the target vector.\n",
    "\n",
    "    Returns:\n",
    "        np.ndarray: A 1D array containing cosine similarities for each vector in the set.\n",
    "    \"\"\"\n",
    "    # Convert to numpy arrays if not already\n",
    "    vectors = np.array(vectors)\n",
    "    target_vector = np.array(target_vector)\n",
    "    \n",
    "    # Compute dot products between each vector and the target vector\n",
    "    dot_products = np.dot(vectors, target_vector)\n",
    "    \n",
    "    # Compute norms of the vectors\n",
    "    vector_norms = np.linalg.norm(vectors, axis=1)\n",
    "    target_norm = np.linalg.norm(target_vector)\n",
    "    \n",
    "    # Avoid division by zero\n",
    "    if target_norm == 0:\n",
    "        return np.zeros_like(dot_products)\n",
    "    \n",
    "    # Compute cosine similarities\n",
    "    return dot_products / (vector_norms * target_norm)"
   ]
  },
  {
   "cell_type": "code",
   "execution_count": null,
   "metadata": {},
   "outputs": [
    {
     "name": "stdout",
     "output_type": "stream",
     "text": [
      "tensor([[0.6422]])\n"
     ]
    }
   ],
   "source": [
    "similarities = model.similarity(embeddings[2], embeddings[1])\n",
    "print(similarities)"
   ]
  },
  {
   "cell_type": "markdown",
   "metadata": {},
   "source": [
    "## Together.ai\n",
    "\n",
    "[API Docs](https://docs.together.ai/reference/chat-completions-1)"
   ]
  },
  {
   "cell_type": "code",
   "execution_count": 111,
   "metadata": {},
   "outputs": [],
   "source": [
    "from together import Together\n",
    "import numpy as np\n",
    "\n",
    "TOGETHER_API_KEY = \"5a532872525382e32ebc396c6cc682d3b8d8d5ea428ef9468404286bb1417f2c\"\n",
    "client = Together(api_key = TOGETHER_API_KEY)\n",
    "\n",
    "def cosine_similarity(vectors,\n",
    "                      target_vector\n",
    "                      ):\n",
    "    \"\"\"\n",
    "    Compute the cosine similarity between a set of vectors and a target vector.\n",
    "\n",
    "    Parameters:\n",
    "        vectors (array-like): A 2D array where each row is a vector.\n",
    "        target_vector (array-like): A 1D array representing the target vector.\n",
    "\n",
    "    Returns:\n",
    "        np.ndarray: A 1D array containing cosine similarities for each vector in the set.\n",
    "    \"\"\"\n",
    "    if not isinstance(vectors, np.ndarray):\n",
    "        vectors = np.array(vectors)\n",
    "    if not isinstance(target_vector, np.ndarray):\n",
    "        target_vector = np.array(target_vector)\n",
    "    \n",
    "    dot_products = np.dot(vectors, target_vector)\n",
    "\n",
    "    vector_norms = np.linalg.norm(vectors, axis=1)\n",
    "    target_norm = np.linalg.norm(target_vector)\n",
    "    \n",
    "    if target_norm == 0:\n",
    "        return np.zeros_like(dot_products)\n",
    "    \n",
    "    return dot_products / (vector_norms * target_norm)\n",
    "\n",
    "def retrieve(client,\n",
    "             query,\n",
    "             vdb = None,\n",
    "             descriptions = None,\n",
    "             ):\n",
    "    \"\"\"Retrieve the most appropriate influencer's description from the influencer database using Together API to embed the query.\n",
    "\n",
    "    Args:\n",
    "        query: str. The input query.\n",
    "        vdb: np.ndarray. A set of vectors representing influencer descriptions.\n",
    "        descriptions: list. A list of corresponding descriptions.\n",
    "\n",
    "    Returns:\n",
    "        str: The retrieved text.\n",
    "    \"\"\"\n",
    "    \n",
    "    if vdb is None:\n",
    "        vdb = np.load('embeddings.npy')\n",
    "        \n",
    "    if descriptions is None:\n",
    "        descriptions = open('descriptions.txt', 'r').read().replace(\"\\\"\",\"\").splitlines()\n",
    "\n",
    "    model = \"BAAI/bge-base-en-v1.5\"\n",
    "\n",
    "    out = client.embeddings.create(\n",
    "        input=query,\n",
    "        model=model,\n",
    "    )\n",
    "\n",
    "    query = out.data[0].embedding\n",
    "\n",
    "    similarities = cosine_similarity(vdb, query)\n",
    "\n",
    "    idx = np.argmax(similarities)\n",
    "    \n",
    "    return descriptions[idx]\n",
    "\n",
    "def generate(client,\n",
    "             TASK_TYPE=None,        \n",
    "             userPrompt=None,\n",
    "             imageUrl=None\n",
    "             ):\n",
    "    \"\"\"Generate text using the Together API.\n",
    "\n",
    "    Args:\n",
    "        TASK_TYPE: str. The type of task to generate text for. Options are \"summarize_post\", \"summarize_influencer\", \"summarize_brand\", \"rag\".\n",
    "        userPrompt: str. The user prompt to provide to the model.\n",
    "        imageUrl: str. The URL of the image to be described (required for \"summarize_post\" task).\n",
    "\n",
    "    Returns:\n",
    "        str: The generated text.\n",
    "    \"\"\"\n",
    "\n",
    "    if TASK_TYPE is None:\n",
    "        raise ValueError(\"TASK_TYPE cannot be None.\")\n",
    "    \n",
    "    if TASK_TYPE == \"summarize_post\":\n",
    "        \n",
    "        model = \"meta-llama/Llama-Vision-Free\"\n",
    "        systemInstruction = open('./prompts/describe_image.txt', 'r').read()\n",
    "        userPrompt = \"Summarize the content of this instagram post\"\n",
    "        \n",
    "        messages=[\n",
    "            {\n",
    "                \"role\": \"system\",\n",
    "                \"content\": f\"{systemInstruction}\",\n",
    "            },\n",
    "            {\n",
    "                \"role\": \"user\",\n",
    "                \"content\": [{\"type\": \"text\", \"text\": userPrompt}, {\"type\": \"image_url\", \"image_url\": {\"url\": imageUrl}}],\n",
    "            }]\n",
    "\n",
    "    else:\n",
    "        \n",
    "        model = \"meta-llama/Llama-3.2-3B-Instruct-Turbo\"\n",
    "\n",
    "        if TASK_TYPE == \"summarize_influencer\":\n",
    "            systemInstruction = open('./prompts/summarize_influencer.txt', 'r').read()\n",
    "            userPrompt = \"Summarize the content of this influencer's profile:\\n\\n\" + userPrompt\n",
    "        \n",
    "        elif TASK_TYPE == \"summarize_brand\":\n",
    "            systemInstruction = open('./prompts/summarize_brand.txt', 'r').read()\n",
    "            userPrompt = \"Summarize the content of this brand's profile:\\n\\n\" + userPrompt\n",
    "        \n",
    "        elif TASK_TYPE == \"rag\":\n",
    "            systemInstruction = open('./prompts/rag.txt', 'r').read().format(retrieve(client, userPrompt))\n",
    "            userPrompt = \"Explain why the provided influencer is a strong match for the following brand:\\n\\n\" + userPrompt\n",
    "        \n",
    "        else:\n",
    "            raise ValueError(f\"Invalid TASK_TYPE: {TASK_TYPE}.\")\n",
    "        \n",
    "        messages=[\n",
    "            {\n",
    "                \"role\": \"system\",\n",
    "                \"content\": f\"{systemInstruction}\",\n",
    "            },\n",
    "            {\n",
    "                \"role\": \"user\",\n",
    "                \"content\": userPrompt,\n",
    "            }]\n",
    "        \n",
    "    stream = client.chat.completions.create(\n",
    "        model=model,\n",
    "        messages=messages,\n",
    "        max_tokens=512,\n",
    "        temperature=0.7,\n",
    "        top_p = 0.7,\n",
    "        top_k = 50,\n",
    "        stream=False,\n",
    "    )\n",
    "    return stream.choices[0].message.content.replace('. ', '.\\n')"
   ]
  },
  {
   "cell_type": "code",
   "execution_count": null,
   "metadata": {},
   "outputs": [
    {
     "name": "stdout",
     "output_type": "stream",
     "text": [
      "This Instagram profile, belonging to Sabrina Bloedorn (@sabrina.bloedorn), showcases a passionate adventurer and fashion enthusiast who combines her love for the outdoors with stylish outfits. Sabrina's feed primarily features her outdoor adventures, including hiking roundups, and her unique take on outfits using various brands such as Peak Performance, Oak and Fort, VivoBarefoot, and HikeClerb. She is also known for her creative upcycling projects, like transforming an Arc'teryx hoody into a baby onesie. Sabrina has collaborated with various brands and has been featured on Hypebae. Her feed exudes a sense of adventure, self-expression, and sustainability.\n"
     ]
    }
   ],
   "source": [
    "query = \"I love going to the mountains\"\n",
    "out = retrieve(client, query)\n",
    "print"
   ]
  },
  {
   "cell_type": "code",
   "execution_count": 112,
   "metadata": {},
   "outputs": [
    {
     "name": "stdout",
     "output_type": "stream",
     "text": [
      "Influencer Details: Reece Bowden, a Fitness Trainer, is the owner of the Instagram profile @reecebowden.\n",
      "He shares fitness-related content, including workout routines, training tips, and motivation.\n",
      "\n",
      "Reason for Match: Reece Bowden is a strong match for the brand selling gym equipment due to his expertise in the fitness industry.\n",
      "As a fitness trainer, he has a deep understanding of various forms of training and can effectively promote the brand's products to his audience.\n",
      "\n",
      "Supporting Details: Reece Bowden's content focuses on building strength day by day, which aligns with the brand's products being designed for gym equipment.\n",
      "He also explores different training methods, including hybrid workouts, which can be facilitated by the brand's products.\n",
      "Furthermore, Reece often features inspiring messages in his posts, which can encourage his followers to invest in the brand's equipment to support their fitness goals.\n",
      "Additionally, he offers online coaching and collaborations, which can lead to partnerships and promotions with the brand.\n"
     ]
    }
   ],
   "source": [
    "userPrompt = \"My brand sells gym equipment\"\n",
    "\n",
    "out = generate(client=client, \n",
    "               TASK_TYPE='rag',\n",
    "               userPrompt=userPrompt\n",
    "               )\n",
    "\n",
    "print(out)"
   ]
  }
 ],
 "metadata": {
  "kernelspec": {
   "display_name": "mistral",
   "language": "python",
   "name": "python3"
  },
  "language_info": {
   "codemirror_mode": {
    "name": "ipython",
    "version": 3
   },
   "file_extension": ".py",
   "mimetype": "text/x-python",
   "name": "python",
   "nbconvert_exporter": "python",
   "pygments_lexer": "ipython3",
   "version": "3.10.0"
  }
 },
 "nbformat": 4,
 "nbformat_minor": 2
}
