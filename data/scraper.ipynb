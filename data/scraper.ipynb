{
 "cells": [
  {
   "cell_type": "code",
   "execution_count": 5,
   "metadata": {},
   "outputs": [
    {
     "ename": "NoSuchElementException",
     "evalue": "Message: no such element: Unable to locate element: {\"method\":\"xpath\",\"selector\":\"//div[@class = \"tab-pane active\"]\"}\n  (Session info: chrome=130.0.6723.117); For documentation on this error, please visit: https://www.selenium.dev/documentation/webdriver/troubleshooting/errors#no-such-element-exception\nStacktrace:\n\tGetHandleVerifier [0x00007FF742D038A5+3004357]\n\t(No symbol) [0x00007FF742999970]\n\t(No symbol) [0x00007FF74284582A]\n\t(No symbol) [0x00007FF742895B8E]\n\t(No symbol) [0x00007FF742895E7C]\n\t(No symbol) [0x00007FF7428DEC27]\n\t(No symbol) [0x00007FF7428BBC1F]\n\t(No symbol) [0x00007FF7428DBA4C]\n\t(No symbol) [0x00007FF7428BB983]\n\t(No symbol) [0x00007FF742887628]\n\t(No symbol) [0x00007FF742888791]\n\tGetHandleVerifier [0x00007FF742D2A00D+3161901]\n\tGetHandleVerifier [0x00007FF742D7E060+3506048]\n\tGetHandleVerifier [0x00007FF742D7400D+3465005]\n\tGetHandleVerifier [0x00007FF742AF0EEB+830987]\n\t(No symbol) [0x00007FF7429A467F]\n\t(No symbol) [0x00007FF7429A09D4]\n\t(No symbol) [0x00007FF7429A0B6D]\n\t(No symbol) [0x00007FF742990149]\n\tBaseThreadInitThunk [0x00007FFCF4C6259D+29]\n\tRtlUserThreadStart [0x00007FFCF56AAF38+40]\n",
     "output_type": "error",
     "traceback": [
      "\u001b[1;31m---------------------------------------------------------------------------\u001b[0m",
      "\u001b[1;31mNoSuchElementException\u001b[0m                    Traceback (most recent call last)",
      "Cell \u001b[1;32mIn[5], line 54\u001b[0m\n\u001b[0;32m     51\u001b[0m             \u001b[38;5;28;01mreturn\u001b[39;00m df\n\u001b[0;32m     53\u001b[0m scraper \u001b[38;5;241m=\u001b[39m InstaScraper()\n\u001b[1;32m---> 54\u001b[0m \u001b[43mscraper\u001b[49m\u001b[38;5;241;43m.\u001b[39;49m\u001b[43mscrape\u001b[49m\u001b[43m(\u001b[49m\u001b[38;5;124;43m\"\u001b[39;49m\u001b[38;5;124;43mhttps://www.instagram.com/bodycon_dress/\u001b[39;49m\u001b[38;5;124;43m\"\u001b[39;49m\u001b[43m)\u001b[49m\n",
      "Cell \u001b[1;32mIn[5], line 34\u001b[0m, in \u001b[0;36mInstaScraper.scrape\u001b[1;34m(self, url)\u001b[0m\n\u001b[0;32m     32\u001b[0m WebDriverWait(driver, \u001b[38;5;241m10\u001b[39m)\u001b[38;5;241m.\u001b[39muntil(EC\u001b[38;5;241m.\u001b[39mpresence_of_element_located((By\u001b[38;5;241m.\u001b[39mXPATH, \u001b[38;5;124m'\u001b[39m\u001b[38;5;124m//button[contains(text(), \u001b[39m\u001b[38;5;124m\"\u001b[39m\u001b[38;5;124mDecline optional cookies\u001b[39m\u001b[38;5;124m\"\u001b[39m\u001b[38;5;124m)]\u001b[39m\u001b[38;5;124m'\u001b[39m)))\n\u001b[0;32m     33\u001b[0m driver\u001b[38;5;241m.\u001b[39mfind_element(By\u001b[38;5;241m.\u001b[39mXPATH, \u001b[38;5;124m'\u001b[39m\u001b[38;5;124m//button[contains(text(), \u001b[39m\u001b[38;5;124m\"\u001b[39m\u001b[38;5;124mDecline optional cookies\u001b[39m\u001b[38;5;124m\"\u001b[39m\u001b[38;5;124m)]\u001b[39m\u001b[38;5;124m'\u001b[39m)\u001b[38;5;241m.\u001b[39mclick()\n\u001b[1;32m---> 34\u001b[0m outerHTML \u001b[38;5;241m=\u001b[39m \u001b[43mdriver\u001b[49m\u001b[38;5;241;43m.\u001b[39;49m\u001b[43mfind_element\u001b[49m\u001b[43m(\u001b[49m\u001b[43mBy\u001b[49m\u001b[38;5;241;43m.\u001b[39;49m\u001b[43mXPATH\u001b[49m\u001b[43m,\u001b[49m\u001b[43m \u001b[49m\u001b[38;5;124;43m'\u001b[39;49m\u001b[38;5;124;43m//div[@class = \u001b[39;49m\u001b[38;5;124;43m\"\u001b[39;49m\u001b[38;5;124;43mtab-pane active\u001b[39;49m\u001b[38;5;124;43m\"\u001b[39;49m\u001b[38;5;124;43m]\u001b[39;49m\u001b[38;5;124;43m'\u001b[39;49m\u001b[43m)\u001b[49m\u001b[38;5;241m.\u001b[39mget_attribute(\u001b[38;5;124m'\u001b[39m\u001b[38;5;124mouterHTML\u001b[39m\u001b[38;5;124m'\u001b[39m)\n\u001b[0;32m     35\u001b[0m \u001b[38;5;66;03m# driver.quit()\u001b[39;00m\n\u001b[0;32m     36\u001b[0m soup \u001b[38;5;241m=\u001b[39m BeautifulSoup(outerHTML)\n",
      "File \u001b[1;32mc:\\Users\\giaco\\miniconda3\\envs\\brimax\\Lib\\site-packages\\selenium\\webdriver\\remote\\webdriver.py:766\u001b[0m, in \u001b[0;36mWebDriver.find_element\u001b[1;34m(self, by, value)\u001b[0m\n\u001b[0;32m    763\u001b[0m         \u001b[38;5;28;01mraise\u001b[39;00m NoSuchElementException(\u001b[38;5;124mf\u001b[39m\u001b[38;5;124m\"\u001b[39m\u001b[38;5;124mCannot locate relative element with: \u001b[39m\u001b[38;5;132;01m{\u001b[39;00mby\u001b[38;5;241m.\u001b[39mroot\u001b[38;5;132;01m}\u001b[39;00m\u001b[38;5;124m\"\u001b[39m)\n\u001b[0;32m    764\u001b[0m     \u001b[38;5;28;01mreturn\u001b[39;00m elements[\u001b[38;5;241m0\u001b[39m]\n\u001b[1;32m--> 766\u001b[0m \u001b[38;5;28;01mreturn\u001b[39;00m \u001b[38;5;28;43mself\u001b[39;49m\u001b[38;5;241;43m.\u001b[39;49m\u001b[43mexecute\u001b[49m\u001b[43m(\u001b[49m\u001b[43mCommand\u001b[49m\u001b[38;5;241;43m.\u001b[39;49m\u001b[43mFIND_ELEMENT\u001b[49m\u001b[43m,\u001b[49m\u001b[43m \u001b[49m\u001b[43m{\u001b[49m\u001b[38;5;124;43m\"\u001b[39;49m\u001b[38;5;124;43musing\u001b[39;49m\u001b[38;5;124;43m\"\u001b[39;49m\u001b[43m:\u001b[49m\u001b[43m \u001b[49m\u001b[43mby\u001b[49m\u001b[43m,\u001b[49m\u001b[43m \u001b[49m\u001b[38;5;124;43m\"\u001b[39;49m\u001b[38;5;124;43mvalue\u001b[39;49m\u001b[38;5;124;43m\"\u001b[39;49m\u001b[43m:\u001b[49m\u001b[43m \u001b[49m\u001b[43mvalue\u001b[49m\u001b[43m}\u001b[49m\u001b[43m)\u001b[49m[\u001b[38;5;124m\"\u001b[39m\u001b[38;5;124mvalue\u001b[39m\u001b[38;5;124m\"\u001b[39m]\n",
      "File \u001b[1;32mc:\\Users\\giaco\\miniconda3\\envs\\brimax\\Lib\\site-packages\\selenium\\webdriver\\remote\\webdriver.py:380\u001b[0m, in \u001b[0;36mWebDriver.execute\u001b[1;34m(self, driver_command, params)\u001b[0m\n\u001b[0;32m    378\u001b[0m response \u001b[38;5;241m=\u001b[39m \u001b[38;5;28mself\u001b[39m\u001b[38;5;241m.\u001b[39mcommand_executor\u001b[38;5;241m.\u001b[39mexecute(driver_command, params)\n\u001b[0;32m    379\u001b[0m \u001b[38;5;28;01mif\u001b[39;00m response:\n\u001b[1;32m--> 380\u001b[0m     \u001b[38;5;28;43mself\u001b[39;49m\u001b[38;5;241;43m.\u001b[39;49m\u001b[43merror_handler\u001b[49m\u001b[38;5;241;43m.\u001b[39;49m\u001b[43mcheck_response\u001b[49m\u001b[43m(\u001b[49m\u001b[43mresponse\u001b[49m\u001b[43m)\u001b[49m\n\u001b[0;32m    381\u001b[0m     response[\u001b[38;5;124m\"\u001b[39m\u001b[38;5;124mvalue\u001b[39m\u001b[38;5;124m\"\u001b[39m] \u001b[38;5;241m=\u001b[39m \u001b[38;5;28mself\u001b[39m\u001b[38;5;241m.\u001b[39m_unwrap_value(response\u001b[38;5;241m.\u001b[39mget(\u001b[38;5;124m\"\u001b[39m\u001b[38;5;124mvalue\u001b[39m\u001b[38;5;124m\"\u001b[39m, \u001b[38;5;28;01mNone\u001b[39;00m))\n\u001b[0;32m    382\u001b[0m     \u001b[38;5;28;01mreturn\u001b[39;00m response\n",
      "File \u001b[1;32mc:\\Users\\giaco\\miniconda3\\envs\\brimax\\Lib\\site-packages\\selenium\\webdriver\\remote\\errorhandler.py:229\u001b[0m, in \u001b[0;36mErrorHandler.check_response\u001b[1;34m(self, response)\u001b[0m\n\u001b[0;32m    227\u001b[0m         alert_text \u001b[38;5;241m=\u001b[39m value[\u001b[38;5;124m\"\u001b[39m\u001b[38;5;124malert\u001b[39m\u001b[38;5;124m\"\u001b[39m]\u001b[38;5;241m.\u001b[39mget(\u001b[38;5;124m\"\u001b[39m\u001b[38;5;124mtext\u001b[39m\u001b[38;5;124m\"\u001b[39m)\n\u001b[0;32m    228\u001b[0m     \u001b[38;5;28;01mraise\u001b[39;00m exception_class(message, screen, stacktrace, alert_text)  \u001b[38;5;66;03m# type: ignore[call-arg]  # mypy is not smart enough here\u001b[39;00m\n\u001b[1;32m--> 229\u001b[0m \u001b[38;5;28;01mraise\u001b[39;00m exception_class(message, screen, stacktrace)\n",
      "\u001b[1;31mNoSuchElementException\u001b[0m: Message: no such element: Unable to locate element: {\"method\":\"xpath\",\"selector\":\"//div[@class = \"tab-pane active\"]\"}\n  (Session info: chrome=130.0.6723.117); For documentation on this error, please visit: https://www.selenium.dev/documentation/webdriver/troubleshooting/errors#no-such-element-exception\nStacktrace:\n\tGetHandleVerifier [0x00007FF742D038A5+3004357]\n\t(No symbol) [0x00007FF742999970]\n\t(No symbol) [0x00007FF74284582A]\n\t(No symbol) [0x00007FF742895B8E]\n\t(No symbol) [0x00007FF742895E7C]\n\t(No symbol) [0x00007FF7428DEC27]\n\t(No symbol) [0x00007FF7428BBC1F]\n\t(No symbol) [0x00007FF7428DBA4C]\n\t(No symbol) [0x00007FF7428BB983]\n\t(No symbol) [0x00007FF742887628]\n\t(No symbol) [0x00007FF742888791]\n\tGetHandleVerifier [0x00007FF742D2A00D+3161901]\n\tGetHandleVerifier [0x00007FF742D7E060+3506048]\n\tGetHandleVerifier [0x00007FF742D7400D+3465005]\n\tGetHandleVerifier [0x00007FF742AF0EEB+830987]\n\t(No symbol) [0x00007FF7429A467F]\n\t(No symbol) [0x00007FF7429A09D4]\n\t(No symbol) [0x00007FF7429A0B6D]\n\t(No symbol) [0x00007FF742990149]\n\tBaseThreadInitThunk [0x00007FFCF4C6259D+29]\n\tRtlUserThreadStart [0x00007FFCF56AAF38+40]\n"
     ]
    }
   ],
   "source": [
    "import pandas as pd\n",
    "from bs4 import BeautifulSoup\n",
    "\n",
    "from selenium import webdriver\n",
    "from selenium.webdriver.common.by import By\n",
    "from selenium.webdriver.support.ui import WebDriverWait\n",
    "from selenium.webdriver.support import expected_conditions as EC\n",
    "\n",
    "class InstaScraper:\n",
    "        \"\"\"\n",
    "        \n",
    "        A webscraper for the Italian music charts.\n",
    "        \n",
    "        \"\"\"\n",
    "        def __init__(self):\n",
    "\n",
    "              self.df = pd.DataFrame({'Year': [], 'Week':[], 'Position':[], 'Title':[], 'Artist':[]})\n",
    "\n",
    "              return\n",
    "\n",
    "\n",
    "        def scrape(self, url):\n",
    "            \"\"\"\n",
    "            \n",
    "            Fetches the HTML for the Italian music charts for a given\n",
    "            year and week and returns a <Pandas.DataFrame>.\n",
    "\n",
    "            \"\"\"\n",
    "            # Get HTML\n",
    "            driver = webdriver.Chrome()\n",
    "            driver.get(f'{url}')\n",
    "            WebDriverWait(driver, 10).until(EC.presence_of_element_located((By.XPATH, '//button[contains(text(), \"Decline optional cookies\")]')))\n",
    "            driver.find_element(By.XPATH, '//button[contains(text(), \"Decline optional cookies\")]').click()\n",
    "            outerHTML = driver.find_element(By.XPATH, '//div[@class = \"tab-pane active\"]').get_attribute('outerHTML')\n",
    "            # driver.quit()\n",
    "            soup = BeautifulSoup(outerHTML)\n",
    "\n",
    "            # Get DF\n",
    "            return \n",
    "            df = pd.DataFrame({'Year': [], 'Week':[], 'Position':[], 'Title':[], 'Artist':[]})\n",
    "            for i in soup.find_all(class_ = 'chart-section-element'):\n",
    "                new_entry = {\n",
    "                            'Year': Year,\n",
    "                            'Week': Week,\n",
    "                            'Position': i.find(class_='c4').contents[0],\n",
    "                            'Title': i.find(class_='chart-section-element-title').contents[0],\n",
    "                            'Artist': i.find(class_='chart-section-element-author').contents[0]\n",
    "                            }\n",
    "                df = pd.concat([df, pd.DataFrame(new_entry, index = [0])], ignore_index=True)\n",
    "\n",
    "            return df\n",
    "    \n",
    "scraper = InstaScraper()\n",
    "scraper.scrape(\"https://www.instagram.com/bodycon_dress/\")"
   ]
  }
 ],
 "metadata": {
  "kernelspec": {
   "display_name": "scraping",
   "language": "python",
   "name": "python3"
  },
  "language_info": {
   "codemirror_mode": {
    "name": "ipython",
    "version": 3
   },
   "file_extension": ".py",
   "mimetype": "text/x-python",
   "name": "python",
   "nbconvert_exporter": "python",
   "pygments_lexer": "ipython3",
   "version": "3.10.0"
  }
 },
 "nbformat": 4,
 "nbformat_minor": 2
}
