{
 "cells": [
  {
   "cell_type": "code",
   "execution_count": 41,
   "metadata": {},
   "outputs": [],
   "source": [
    "import pandas as pd\n",
    "\n",
    "data = pd.read_excel(\"241220_apify.xlsx\",\n",
    "                     sheet_name=\"actor_Instagram Profile Scraper\"\n",
    "                     )\n",
    "data = data.loc[:, ~data.columns.str.contains('latestIgtvVideos')]\n",
    "data = data.loc[(data.followersCount > 2000) & (data.followersCount < 10000)]"
   ]
  },
  {
   "cell_type": "code",
   "execution_count": 46,
   "metadata": {},
   "outputs": [
    {
     "data": {
      "text/html": [
       "<div>\n",
       "<style scoped>\n",
       "    .dataframe tbody tr th:only-of-type {\n",
       "        vertical-align: middle;\n",
       "    }\n",
       "\n",
       "    .dataframe tbody tr th {\n",
       "        vertical-align: top;\n",
       "    }\n",
       "\n",
       "    .dataframe thead th {\n",
       "        text-align: right;\n",
       "    }\n",
       "</style>\n",
       "<table border=\"1\" class=\"dataframe\">\n",
       "  <thead>\n",
       "    <tr style=\"text-align: right;\">\n",
       "      <th></th>\n",
       "      <th>url</th>\n",
       "      <th>username</th>\n",
       "      <th>biography</th>\n",
       "      <th>followers</th>\n",
       "      <th>following</th>\n",
       "      <th>businessCategory</th>\n",
       "      <th>externalUrl</th>\n",
       "    </tr>\n",
       "  </thead>\n",
       "  <tbody>\n",
       "    <tr>\n",
       "      <th>0</th>\n",
       "      <td>https://www.instagram.com/andreapachetti/</td>\n",
       "      <td>andreapachetti</td>\n",
       "      <td>📀 Producer - Sound Engineer - Songwriter</td>\n",
       "      <td>3108.0</td>\n",
       "      <td>889.0</td>\n",
       "      <td>Music Producer</td>\n",
       "      <td>https://spotify.link/5RM8UekXYDb</td>\n",
       "    </tr>\n",
       "    <tr>\n",
       "      <th>1</th>\n",
       "      <td>https://www.instagram.com/marco_torosantucci/</td>\n",
       "      <td>marco_torosantucci</td>\n",
       "      <td>📈Trader &amp; Imprenditore\\n✨ Founder @lumix_clean...</td>\n",
       "      <td>9559.0</td>\n",
       "      <td>2559.0</td>\n",
       "      <td>Entrepreneur</td>\n",
       "      <td>https://www.lumixcleaner.it/</td>\n",
       "    </tr>\n",
       "    <tr>\n",
       "      <th>2</th>\n",
       "      <td>https://www.instagram.com/crazytrip_bolgia/</td>\n",
       "      <td>crazytrip_bolgia</td>\n",
       "      <td>🔥Il tuo PR di fiducia @bolgia.official \\n🎧 Tra...</td>\n",
       "      <td>2084.0</td>\n",
       "      <td>3399.0</td>\n",
       "      <td>Event Planner</td>\n",
       "      <td>http://wa.me/+393479650804</td>\n",
       "    </tr>\n",
       "    <tr>\n",
       "      <th>3</th>\n",
       "      <td>https://www.instagram.com/headbangerspubmilano/</td>\n",
       "      <td>headbangerspubmilano</td>\n",
       "      <td>Il pub metal a Milano 🤘🍻🤘</td>\n",
       "      <td>7556.0</td>\n",
       "      <td>2210.0</td>\n",
       "      <td>None,Dance &amp; Night Club</td>\n",
       "      <td>http://www.headbangerspub.com/</td>\n",
       "    </tr>\n",
       "    <tr>\n",
       "      <th>4</th>\n",
       "      <td>https://www.instagram.com/edops/</td>\n",
       "      <td>edops</td>\n",
       "      <td>Autore, host del podcast @hacking_creativity e...</td>\n",
       "      <td>2463.0</td>\n",
       "      <td>1241.0</td>\n",
       "      <td>Video creator</td>\n",
       "      <td>http://bit.ly/hc-podcast</td>\n",
       "    </tr>\n",
       "  </tbody>\n",
       "</table>\n",
       "</div>"
      ],
      "text/plain": [
       "                                               url              username  \\\n",
       "0        https://www.instagram.com/andreapachetti/        andreapachetti   \n",
       "1    https://www.instagram.com/marco_torosantucci/    marco_torosantucci   \n",
       "2      https://www.instagram.com/crazytrip_bolgia/      crazytrip_bolgia   \n",
       "3  https://www.instagram.com/headbangerspubmilano/  headbangerspubmilano   \n",
       "4                 https://www.instagram.com/edops/                 edops   \n",
       "\n",
       "                                           biography  followers  following  \\\n",
       "0           📀 Producer - Sound Engineer - Songwriter     3108.0      889.0   \n",
       "1  📈Trader & Imprenditore\\n✨ Founder @lumix_clean...     9559.0     2559.0   \n",
       "2  🔥Il tuo PR di fiducia @bolgia.official \\n🎧 Tra...     2084.0     3399.0   \n",
       "3                          Il pub metal a Milano 🤘🍻🤘     7556.0     2210.0   \n",
       "4  Autore, host del podcast @hacking_creativity e...     2463.0     1241.0   \n",
       "\n",
       "          businessCategory                       externalUrl  \n",
       "0           Music Producer  https://spotify.link/5RM8UekXYDb  \n",
       "1             Entrepreneur      https://www.lumixcleaner.it/  \n",
       "2            Event Planner        http://wa.me/+393479650804  \n",
       "3  None,Dance & Night Club    http://www.headbangerspub.com/  \n",
       "4            Video creator          http://bit.ly/hc-podcast  "
      ]
     },
     "execution_count": 46,
     "metadata": {},
     "output_type": "execute_result"
    }
   ],
   "source": [
    "df = pd.DataFrame({'url':data[\"inputUrl\"],\n",
    "                   'username':data[\"username\"],\n",
    "                   'biography':data[\"biography\"],\n",
    "                   'followers':data[\"followersCount\"],\n",
    "                   'following':data[\"followsCount\"],\n",
    "                   'businessCategory':data[\"businessCategoryName\"],\n",
    "                   'externalUrl':data[\"externalUrl\"],\n",
    "                   }).reset_index(drop=True)\n",
    "df.head()"
   ]
  },
  {
   "cell_type": "code",
   "execution_count": 92,
   "metadata": {},
   "outputs": [
    {
     "name": "stdout",
     "output_type": "stream",
     "text": [
      "Unable to find column:  'latestPosts/2/caption'\n",
      "Unable to find column:  'latestPosts/6/caption'\n",
      "Unable to find column:  'latestPosts/8/displayUrl'\n"
     ]
    }
   ],
   "source": [
    "for i in range(0, 12):\n",
    "    try:\n",
    "        df[f\"post_{i}\"] = data[f\"latestPosts/{i}/displayUrl\"].tolist()\n",
    "        df[f\"caption_{i}\"] = data[f\"latestPosts/{i}/caption\"].tolist()\n",
    "    except Exception as e:\n",
    "        print('Unable to find column: ',e)\n",
    "        continue"
   ]
  },
  {
   "cell_type": "code",
   "execution_count": 100,
   "metadata": {},
   "outputs": [
    {
     "name": "stdout",
     "output_type": "stream",
     "text": [
      "This image depicts a young woman sprinting down a long and narrow urban alleyway, with a dramatic and intense atmosphere. The woman, dressed in a white collared shirt, blue skirt, and black leather jacket, is captured in mid-stride, her face blurred as she gazes downward. The alleyway's gray concrete walls and floor, punctuated by a few windows and doors, create a sense of confinement and isolation.\n",
      "\n",
      "The image's overall mood is one of urgency and tension, as if the woman is fleeing from an unknown threat or danger. The blurred motion and shallow depth of field further emphasize the sense of movement and urgency, drawing the viewer's attention to the woman's frantic pace.\n"
     ]
    }
   ],
   "source": [
    "from together import Together\n",
    "\n",
    "TOGETHER_API_KEY = \"5a532872525382e32ebc396c6cc682d3b8d8d5ea428ef9468404286bb1417f2c\"\n",
    "client = Together(api_key=TOGETHER_API_KEY)\n",
    "\n",
    "getDescriptionPrompt = open(\"../prompts/describe_image.txt\", \"r\").read()\n",
    "imageUrl = df.post_0[0]\n",
    "\n",
    "\n",
    "response = client.chat.completions.create(\n",
    "    model=\"meta-llama/Llama-Vision-Free\",\n",
    "    messages=[\n",
    "        {\n",
    "            \"role\": \"user\",\n",
    "            \"content\": [\n",
    "                {\"type\": \"text\", \"text\": getDescriptionPrompt},\n",
    "                {\n",
    "                    \"type\": \"image_url\",\n",
    "                    \"image_url\": {\n",
    "                        \"url\": imageUrl,\n",
    "                    },\n",
    "                },\n",
    "            ],\n",
    "        }\n",
    "    ],\n",
    ")\n",
    "print(response.choices[0].message.content)"
   ]
  },
  {
   "cell_type": "markdown",
   "metadata": {},
   "source": [
    "latestPosts/0/caption  \n",
    "latestPosts/0/displayUrl  \n",
    "latestPosts/0/url  \n",
    "latestPosts/0/type  \n",
    "latestPosts/0/images/4  "
   ]
  }
 ],
 "metadata": {
  "kernelspec": {
   "display_name": "main",
   "language": "python",
   "name": "python3"
  },
  "language_info": {
   "codemirror_mode": {
    "name": "ipython",
    "version": 3
   },
   "file_extension": ".py",
   "mimetype": "text/x-python",
   "name": "python",
   "nbconvert_exporter": "python",
   "pygments_lexer": "ipython3",
   "version": "3.12.3"
  }
 },
 "nbformat": 4,
 "nbformat_minor": 2
}
