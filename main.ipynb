{
 "cells": [
  {
   "cell_type": "code",
   "execution_count": 2,
   "metadata": {},
   "outputs": [
    {
     "name": "stdout",
     "output_type": "stream",
     "text": [
      "{\"response\":\"I'm sorry, I am not able to provide a response to this prompt. Please, provide your brand's description and I will help you find the best influencer for your needs!\"}\n",
      "\n"
     ]
    }
   ],
   "source": [
    "import requests\n",
    "\n",
    "url = 'http://brimax.pythonanywhere.com/generate'\n",
    "headers = {'Content-Type': 'application/json'}\n",
    "data = {'prompt': 'cioa'}\n",
    "\n",
    "response = requests.post(url, json=data, headers=headers)\n",
    "\n",
    "print(response.text)"
   ]
  },
  {
   "cell_type": "code",
   "execution_count": 4,
   "metadata": {},
   "outputs": [
    {
     "data": {
      "text/plain": [
       "\"This profile belongs to Andrea Digiorgio (Instagram Handle: @andreadigiorgiomusic), a musician and producer specializing in electronic music. This profile showcases Andrea's focus on music production, particularly in the realm of modular synthesizers, with content primarily featuring images and videos of his creative process, product showcases, and collaborations with other artists and brands. Known for his eclectic and humorous approach to music production, Andrea frequently shares behind-the-scenes glimpses of his work, often incorporating elements of storytelling and visual artistry into his posts. His engaging captions often highlight his passion for music, technology, and community, while also promoting his own projects and brand, such as the Murena synthesizer line and the Visioni festival. Through his content, Andrea has built a dedicated following of like-minded individuals who appreciate his unique blend of creativity, technical expertise, and enthusiasm for the music industry.\""
      ]
     },
     "execution_count": 4,
     "metadata": {},
     "output_type": "execute_result"
    }
   ],
   "source": [
    "from gooper import GooperModel\n",
    "\n",
    "model = GooperModel()\n",
    "\n",
    "model.retrieve('I like producing and promoting music')"
   ]
  }
 ],
 "metadata": {
  "kernelspec": {
   "display_name": "main",
   "language": "python",
   "name": "python3"
  },
  "language_info": {
   "codemirror_mode": {
    "name": "ipython",
    "version": 3
   },
   "file_extension": ".py",
   "mimetype": "text/x-python",
   "name": "python",
   "nbconvert_exporter": "python",
   "pygments_lexer": "ipython3",
   "version": "3.12.3"
  }
 },
 "nbformat": 4,
 "nbformat_minor": 2
}
