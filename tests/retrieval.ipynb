{
 "cells": [
  {
   "cell_type": "markdown",
   "metadata": {},
   "source": [
    "The following were generated using the prompt from `prompts.md` and `Mistral (7B) Instruct vo-2` on [together.ai](https://api.together.xyz/playground/chat/mistralai/Mistral-7B-Instruct-v0.2)"
   ]
  },
  {
   "cell_type": "code",
   "execution_count": null,
   "metadata": {},
   "outputs": [],
   "source": [
    "influencer_fit = \"This Instagram profile, belonging to Sabrina Bloedorn (@sabrina.bloedorn), showcases a passionate adventurer and fashion enthusiast who combines her love for the outdoors with stylish outfits. Sabrina's feed primarily features her outdoor adventures, including hiking roundups, and her unique take on outfits using various brands such as Peak Performance, Oak and Fort, VivoBarefoot, and HikeClerb. She is also known for her creative upcycling projects, like transforming an Arc'teryx hoody into a baby onesie. Sabrina has collaborated with various brands and has been featured on Hypebae. Her feed exudes a sense of adventure, self-expression, and sustainability.\"\n",
    "brand = \"This Instagram profile, under the handle @spaceout_official, represents the brand Space Out, specializing in clothing. The profile showcases a connection to the outdoors, encouraging followers to 'enjoy the outside moment' with the hashtag #getoutside. The brand highlights its products, such as the Toray Delfy 3L rain jacket, with a focus on their innovative details and functionality. The profile also features content that goes beyond traditional outdoor activities, showcasing city hikes and urban exploration. #spaceout #notjustforoutdoors.\"\n",
    "influencer_nofit = \"This Instagram profile, @reecebowden, belongs to Reece Bowden, a Fitness Trainer. Reece shares a mix of fitness-related content, including workout routines, training tips, and motivation. He encourages his followers to build their strength day by day and explores various forms of training, from running to hybrid workouts. His posts often feature inspiring messages and the use of the hashtag #explore. Reece also offers online coaching and collaborations, and can be reached at reecebowdencollabs@gmail.com.\""
   ]
  },
  {
   "cell_type": "code",
   "execution_count": null,
   "metadata": {},
   "outputs": [],
   "source": [
    "from sentence_transformers import SentenceTransformer\n",
    "\n",
    "model = SentenceTransformer(\"BAAI/bge-base-en-v1.5\")\n",
    "\n",
    "sentences = [\n",
    "    brand,\n",
    "    influencer_fit,\n",
    "    influencer_nofit\n",
    "]\n",
    "embeddings = model.encode(sentences)"
   ]
  },
  {
   "cell_type": "code",
   "execution_count": null,
   "metadata": {},
   "outputs": [
    {
     "name": "stdout",
     "output_type": "stream",
     "text": [
      "tensor([[0.6422]])\n"
     ]
    }
   ],
   "source": [
    "similarities = model.similarity(embeddings[2], embeddings[1])\n",
    "print(similarities)"
   ]
  }
 ],
 "metadata": {
  "language_info": {
   "name": "python"
  }
 },
 "nbformat": 4,
 "nbformat_minor": 2
}
